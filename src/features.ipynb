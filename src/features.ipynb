{
 "cells": [
  {
   "cell_type": "code",
   "execution_count": 1,
   "metadata": {
    "collapsed": false
   },
   "outputs": [],
   "source": [
    "import psycopg2\n",
    "import pandas as pd\n",
    "from datetime import date, timedelta"
   ]
  },
  {
   "cell_type": "code",
   "execution_count": 2,
   "metadata": {
    "collapsed": false
   },
   "outputs": [],
   "source": [
    "conn = psycopg2.connect(database=\"training_2015\", \n",
    "                        user=\"rasch\", \n",
    "                        password=\"\", \n",
    "                        host=\"dssgsummer2014postgres.c5faqozfo86k.us-west-2.rds.amazonaws.com\", \n",
    "                        port=\"5432\")\n",
    "\n",
    "def query_db(sql):\n",
    "    return pd.read_sql(sql, conn)"
   ]
  },
  {
   "cell_type": "markdown",
   "metadata": {},
   "source": [
    "### For each location, how many failed inspections where there since April 2015?"
   ]
  },
  {
   "cell_type": "code",
   "execution_count": 22,
   "metadata": {
    "collapsed": false
   },
   "outputs": [
    {
     "data": {
      "text/html": [
       "<div style=\"max-height:1000px;max-width:1500px;overflow:auto;\">\n",
       "<table border=\"1\" class=\"dataframe\">\n",
       "  <thead>\n",
       "    <tr style=\"text-align: right;\">\n",
       "      <th></th>\n",
       "      <th>count</th>\n",
       "    </tr>\n",
       "    <tr>\n",
       "      <th>LOCATION</th>\n",
       "      <th></th>\n",
       "    </tr>\n",
       "  </thead>\n",
       "  <tbody>\n",
       "    <tr>\n",
       "      <th>(41.70218602130889,-87.62680358268749)</th>\n",
       "      <td>1</td>\n",
       "    </tr>\n",
       "    <tr>\n",
       "      <th>(41.82370467512668,-87.67128029275361)</th>\n",
       "      <td>1</td>\n",
       "    </tr>\n",
       "    <tr>\n",
       "      <th>(41.92428830284015,-87.75087656974485)</th>\n",
       "      <td>1</td>\n",
       "    </tr>\n",
       "    <tr>\n",
       "      <th>(41.99813141435855,-87.75705153629221)</th>\n",
       "      <td>1</td>\n",
       "    </tr>\n",
       "    <tr>\n",
       "      <th>(41.942591613793674,-87.72254386304228)</th>\n",
       "      <td>1</td>\n",
       "    </tr>\n",
       "  </tbody>\n",
       "</table>\n",
       "</div>"
      ],
      "text/plain": [
       "                                         count\n",
       "LOCATION                                      \n",
       "(41.70218602130889,-87.62680358268749)       1\n",
       "(41.82370467512668,-87.67128029275361)       1\n",
       "(41.92428830284015,-87.75087656974485)       1\n",
       "(41.99813141435855,-87.75705153629221)       1\n",
       "(41.942591613793674,-87.72254386304228)      1"
      ]
     },
     "execution_count": 22,
     "metadata": {},
     "output_type": "execute_result"
    }
   ],
   "source": [
    "sql_query = \"\"\"SELECT COUNT(*), \"LOCATION\" FROM krasch.building_violationssample \n",
    "               WHERE CAST(\"VIOLATION DATE\" AS date) > '2014-04-01' \n",
    "               AND NOT \"LOCATION\" IS NULL \n",
    "               AND \"INSPECTION STATUS\" = 'FAILED' \n",
    "               GROUP BY \"LOCATION\"; \"\"\"\n",
    "\n",
    "failed_since_april = query_db(sql_query)\n",
    "\n",
    "# the location is a good index for our dataframe; setting it as an index also makes merging dataframes easier later on\n",
    "failed_since_april = failed_since_april.set_index(\"LOCATION\")\n",
    "df.head()"
   ]
  },
  {
   "cell_type": "markdown",
   "metadata": {
    "collapsed": false
   },
   "source": [
    "### What if we want failed inspections in time range?"
   ]
  },
  {
   "cell_type": "code",
   "execution_count": 3,
   "metadata": {
    "collapsed": true
   },
   "outputs": [],
   "source": [
    "def failures_in_timerange(start_date, end_date):\n",
    "    # make sure that start date and end date are formatted correctly (so that postgres can understand)\n",
    "    start_date = start_date.strftime('%Y-%m-%d')\n",
    "    end_date = end_date.strftime('%Y-%m-%d')\n",
    "    \n",
    "    # make a query for this time range\n",
    "    sql_query = \"\"\"SELECT COUNT(*), \"LOCATION\" FROM krasch.building_violationssample \n",
    "                   WHERE CAST(\"VIOLATION DATE\" AS date) >= '{start}' \n",
    "                   AND CAST(\"VIOLATION DATE\" AS date) <'{end}' \n",
    "                   AND NOT \"LOCATION\" IS NULL \n",
    "                   AND \"INSPECTION STATUS\" = 'FAILED' \n",
    "                   GROUP BY \"LOCATION\"; \"\"\".format(start=start_date, end=end_date)\n",
    "    \n",
    "    # query and set location as index\n",
    "    failed_df = query_db(sql_query)\n",
    "    failed_df = failed_df.set_index(\"LOCATION\")\n",
    "    \n",
    "    return failed_df[\"count\"]\n"
   ]
  },
  {
   "cell_type": "markdown",
   "metadata": {},
   "source": [
    "### Let's try out our new function to get violations in the 30 days until today"
   ]
  },
  {
   "cell_type": "code",
   "execution_count": 4,
   "metadata": {
    "collapsed": false
   },
   "outputs": [],
   "source": [
    "range_length = timedelta(days=30)\n",
    "failures_30days = failures_in_timerange(date.today() - range_length, date.today())\n",
    "failures_30days.name = \"Failures30\""
   ]
  },
  {
   "cell_type": "markdown",
   "metadata": {},
   "source": [
    "### And in the last 90 days"
   ]
  },
  {
   "cell_type": "code",
   "execution_count": 5,
   "metadata": {
    "collapsed": false
   },
   "outputs": [
    {
     "data": {
      "text/plain": [
       "LOCATION\n",
       "(41.782223140005044,-87.6126196710642)     1\n",
       "(41.78306113766131,-87.68359886966648)     1\n",
       "(41.76067033194391,-87.67357109982991)     1\n",
       "(41.78677993100218,-87.65428695708154)     1\n",
       "(41.911578609818896,-87.71026095198513)    1\n",
       "Name: Failures90, dtype: int64"
      ]
     },
     "execution_count": 5,
     "metadata": {},
     "output_type": "execute_result"
    }
   ],
   "source": [
    "range_length = timedelta(days=90)\n",
    "failures_90days = failures_in_timerange(date.today() - range_length, date.today())\n",
    "failures_90days.name = \"Failures90\"\n",
    "failures_90days.head()"
   ]
  },
  {
   "cell_type": "code",
   "execution_count": null,
   "metadata": {
    "collapsed": true
   },
   "outputs": [],
   "source": []
  }
 ],
 "metadata": {
  "kernelspec": {
   "display_name": "Python 3",
   "language": "python",
   "name": "python3"
  },
  "language_info": {
   "codemirror_mode": {
    "name": "ipython",
    "version": 3
   },
   "file_extension": ".py",
   "mimetype": "text/x-python",
   "name": "python",
   "nbconvert_exporter": "python",
   "pygments_lexer": "ipython3",
   "version": "3.4.3"
  }
 },
 "nbformat": 4,
 "nbformat_minor": 0
}
